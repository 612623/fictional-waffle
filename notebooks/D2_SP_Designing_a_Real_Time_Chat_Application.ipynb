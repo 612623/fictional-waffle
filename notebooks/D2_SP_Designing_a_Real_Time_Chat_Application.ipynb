{
 "cells": [
  {
   "cell_type": "markdown",
   "metadata": {},
   "source": [
    "# Day 2 - Self-Paced Practice: Designing a Real-Time Chat Application\n",
    "\n",
    "**Objective:** Reinforce the concept of diagram-as-code by generating architectural diagrams for a new problem domain.\n",
    "\n",
    "**Estimated Time:** 45 minutes\n",
    "\n",
    "**Introduction:**\n",
    "A key skill for a modern architect is the ability to quickly visualize and communicate system design. In this lab, you will practice using an LLM to generate two different types of diagrams for a common software system: a real-time chat application. This will help you become more fluent in prompting for and interpreting diagrams-as-code."
   ]
  },
  {
   "cell_type": "markdown",
   "metadata": {},
   "source": [
    "## 1. Setup\n",
    "\n",
    "We'll begin by setting up our environment, importing the necessary utilities and initializing our LLM client."
   ]
  },
  {
   "cell_type": "code",
   "execution_count": 2,
   "metadata": {},
   "outputs": [
    {
     "name": "stderr",
     "output_type": "stream",
     "text": [
      "2025-10-03 10:17:54,738 ag_aisoftdev.utils INFO LLM Client configured provider=openai model=gpt-4o latency_ms=None artifacts_path=None\n"
     ]
    }
   ],
   "source": [
    "import sys\n",
    "import os\n",
    "\n",
    "# Add the project's root directory to the Python path\n",
    "try:\n",
    "    project_root = os.path.abspath(os.path.join(os.getcwd(), '..', '..'))\n",
    "except IndexError:\n",
    "    project_root = os.path.abspath(os.path.join(os.getcwd()))\n",
    "\n",
    "if project_root not in sys.path:\n",
    "    sys.path.insert(0, project_root)\n",
    "\n",
    "from utils import setup_llm_client, get_completion, render_plantuml_diagram, save_artifact, clean_llm_output\n",
    "\n",
    "# For design tasks, models with strong reasoning are recommended.\n",
    "client, model_name, api_provider = setup_llm_client(model_name=\"gpt-4o\")"
   ]
  },
  {
   "cell_type": "markdown",
   "metadata": {},
   "source": [
    "## 2. The Problem Statement\n",
    "\n",
    "Your task is to design the high-level architecture for a simple, real-time chat application. \n",
    "\n",
    "**Core Components & Flow:**\n",
    "1.  A **Frontend** (web browser) where users interact.\n",
    "2.  A **Backend API Server** to handle user authentication and message history.\n",
    "3.  A **WebSocket Server** to handle real-time message broadcasting.\n",
    "4.  A **Database** to store user information and chat messages."
   ]
  },
  {
   "cell_type": "markdown",
   "metadata": {},
   "source": [
    "### ⭐ Deeper Dive: The Power of \"Diagrams as Code\"\n",
    "\n",
    "The technique you're using in this lab—generating PlantUML or Mermaid code from a prompt—is a form of **\"Diagrams as Code.\"** This is a powerful, modern practice with several key advantages over using traditional drag-and-drop GUI tools:\n",
    "\n",
    "- **Version Controllable:** Since the diagram is just a text file, you can check it into Git, review changes in pull requests, and track its history alongside your application code.\n",
    "- **Easily Editable:** Modifying a relationship or adding a component is as simple as changing a line of text. This is often much faster than fiddling with boxes and arrows in a GUI.\n",
    "- **Consistent:** Templates and code generation ensure that all diagrams across your organization can share a consistent style and level of detail.\n",
    "- **Automatable:** Because it's text, you can build tools that automatically generate or update architecture diagrams as part of your CI/CD pipeline, ensuring your documentation never goes stale."
   ]
  },
  {
   "cell_type": "markdown",
   "metadata": {},
   "source": [
    "## 3. Your Tasks"
   ]
  },
  {
   "cell_type": "markdown",
   "metadata": {},
   "source": [
    "### Task 1: Generate a Component Diagram\n",
    "\n",
    "First, we'll create a **component diagram**. This type of diagram is excellent for showing the high-level static structure of a system and how the major pieces are connected."
   ]
  },
  {
   "cell_type": "markdown",
   "metadata": {},
   "source": [
    "#### 💡 Pro-Tip: Prompting for Structural Diagrams\n",
    "\n",
    "When prompting an LLM to generate a structural diagram (like a Component, C4, or Class diagram), follow this pattern for the best results:\n",
    "\n",
    "1.  **State the Format:** Begin by clearly stating you want `PlantUML code for a component diagram`.\n",
    "2.  **Define the Components:** Explicitly list the key components or containers you want to see in the diagram. This gives the LLM the primary \"actors.\"\n",
    "3.  **Describe the Relationships:** Clearly describe the connections *between* the components. Use directional language like \"Component A sends data to Component B via HTTPS.\"\n",
    "4.  **Constrain the Output:** End by reminding the model to `\"Output only the raw PlantUML code.\"`"
   ]
  },
  {
   "cell_type": "code",
   "execution_count": null,
   "metadata": {},
   "outputs": [
    {
     "name": "stdout",
     "output_type": "stream",
     "text": [
      "--- Generating Component Diagram ---\n",
      "\n",
      "--- Generated PlantUML Code ---\n",
      "@startuml\n",
      "!define CRUD <<CRUD>>\n",
      "\n",
      "package \"Onboarding Platform\" {\n",
      "    [Frontend] <<CRUD>> {\n",
      "        note left: The Frontend performs CRUD operations\\nvia HTTP with the Backend API Server\n",
      "    }\n",
      "\n",
      "    [Backend API Server] <<CRUD>> {\n",
      "        note right: The Backend API Server uses an ORM\\nto communicate with the Database\n",
      "    }\n",
      "\n",
      "    [Database] <<CRUD>> {\n",
      "        note right: The Database stores user data\\nand supports CRUD operations\n",
      "    }\n",
      "\n",
      "    [Frontend] --> [Backend API Server] : HTTP\\n- Fetch user data\\n- Send new user data\\n- Update user data\\n- Delete user data\\n- GET tasks by role\n",
      "    [Backend API Server] --> [Database] : ORM\\n- Read user data\\n- Write user data\\n- Update user data\\n- Delete user data\n",
      "}\n",
      "@enduml\n"
     ]
    },
    {
     "ename": "ArtifactError",
     "evalue": "PlantUML rendering failed after attempts [outfile: PlantUML.processes() got an unexpected keyword argument 'outfile'; outfile positional: PlantUML.processes() takes 2 positional arguments but 3 were given]: 'PlantUMLHTTPError' object has no attribute 'message'",
     "output_type": "error",
     "traceback": [
      "\u001b[31m---------------------------------------------------------------------------\u001b[39m",
      "\u001b[31mAttributeError\u001b[39m                            Traceback (most recent call last)",
      "\u001b[36mFile \u001b[39m\u001b[32mc:\\Users\\labadmin\\AG-AISOFTDEV\\utils\\plantuml.py:73\u001b[39m, in \u001b[36mrender_plantuml_diagram\u001b[39m\u001b[34m(diagram_source, output_filename, server_url, base_dir)\u001b[39m\n\u001b[32m     72\u001b[39m \u001b[38;5;28;01mtry\u001b[39;00m:\n\u001b[32m---> \u001b[39m\u001b[32m73\u001b[39m     result = \u001b[43mclient\u001b[49m\u001b[43m.\u001b[49m\u001b[43mprocesses\u001b[49m\u001b[43m(\u001b[49m\u001b[43mdiagram_source\u001b[49m\u001b[43m)\u001b[49m\n\u001b[32m     74\u001b[39m \u001b[38;5;28;01mexcept\u001b[39;00m \u001b[38;5;167;01mException\u001b[39;00m \u001b[38;5;28;01mas\u001b[39;00m exc:  \u001b[38;5;66;03m# pragma: no cover - pass through diagnostics\u001b[39;00m\n",
      "\u001b[36mFile \u001b[39m\u001b[32mc:\\Users\\labadmin\\AG-AISOFTDEV\\.venv\\Lib\\site-packages\\plantuml.py:173\u001b[39m, in \u001b[36mPlantUML.processes\u001b[39m\u001b[34m(self, plantuml_text)\u001b[39m\n\u001b[32m    172\u001b[39m \u001b[38;5;28;01mif\u001b[39;00m response.status != \u001b[32m200\u001b[39m:\n\u001b[32m--> \u001b[39m\u001b[32m173\u001b[39m     \u001b[38;5;28;01mraise\u001b[39;00m \u001b[43mPlantUMLHTTPError\u001b[49m\u001b[43m(\u001b[49m\u001b[43mresponse\u001b[49m\u001b[43m,\u001b[49m\u001b[43m \u001b[49m\u001b[43mcontent\u001b[49m\u001b[43m)\u001b[49m\n\u001b[32m    174\u001b[39m \u001b[38;5;28;01mreturn\u001b[39;00m content\n",
      "\u001b[36mFile \u001b[39m\u001b[32mc:\\Users\\labadmin\\AG-AISOFTDEV\\.venv\\Lib\\site-packages\\plantuml.py:56\u001b[39m, in \u001b[36mPlantUMLHTTPError.__init__\u001b[39m\u001b[34m(self, response, content, *args, **kwdargs)\u001b[39m\n\u001b[32m     55\u001b[39m \u001b[38;5;28mself\u001b[39m.content = content\n\u001b[32m---> \u001b[39m\u001b[32m56\u001b[39m \u001b[38;5;28;01mif\u001b[39;00m \u001b[38;5;129;01mnot\u001b[39;00m \u001b[38;5;28;43mself\u001b[39;49m\u001b[43m.\u001b[49m\u001b[43mmessage\u001b[49m:\n\u001b[32m     57\u001b[39m     \u001b[38;5;28mself\u001b[39m.message = \u001b[33m\"\u001b[39m\u001b[38;5;132;01m%d\u001b[39;00m\u001b[33m: \u001b[39m\u001b[38;5;132;01m%s\u001b[39;00m\u001b[33m\"\u001b[39m % (\n\u001b[32m     58\u001b[39m         \u001b[38;5;28mself\u001b[39m.response.status, \u001b[38;5;28mself\u001b[39m.response.reason)\n",
      "\u001b[31mAttributeError\u001b[39m: 'PlantUMLHTTPError' object has no attribute 'message'",
      "\nThe above exception was the direct cause of the following exception:\n",
      "\u001b[31mArtifactError\u001b[39m                             Traceback (most recent call last)",
      "\u001b[36mCell\u001b[39m\u001b[36m \u001b[39m\u001b[32mIn[5]\u001b[39m\u001b[32m, line 39\u001b[39m\n\u001b[32m     37\u001b[39m \u001b[38;5;66;03m# Render the diagram\u001b[39;00m\n\u001b[32m     38\u001b[39m \u001b[38;5;28;01mif\u001b[39;00m component_puml:\n\u001b[32m---> \u001b[39m\u001b[32m39\u001b[39m     \u001b[43mrender_plantuml_diagram\u001b[49m\u001b[43m(\u001b[49m\u001b[43mcomponent_puml\u001b[49m\u001b[43m,\u001b[49m\u001b[43m \u001b[49m\u001b[33;43m\"\u001b[39;49m\u001b[33;43mfictional-waffle/artifacts/uml_component_diagram.puml\u001b[39;49m\u001b[33;43m\"\u001b[39;49m\u001b[43m)\u001b[49m\n",
      "\u001b[36mFile \u001b[39m\u001b[32mc:\\Users\\labadmin\\AG-AISOFTDEV\\utils\\plantuml.py:80\u001b[39m, in \u001b[36mrender_plantuml_diagram\u001b[39m\u001b[34m(diagram_source, output_filename, server_url, base_dir)\u001b[39m\n\u001b[32m     78\u001b[39m         \u001b[38;5;28;01melse\u001b[39;00m:\n\u001b[32m     79\u001b[39m             message = \u001b[33mf\u001b[39m\u001b[33m\"\u001b[39m\u001b[33mPlantUML rendering failed: \u001b[39m\u001b[38;5;132;01m{\u001b[39;00mexc\u001b[38;5;132;01m}\u001b[39;00m\u001b[33m\"\u001b[39m\n\u001b[32m---> \u001b[39m\u001b[32m80\u001b[39m         \u001b[38;5;28;01mraise\u001b[39;00m ArtifactError(message) \u001b[38;5;28;01mfrom\u001b[39;00m\u001b[38;5;250m \u001b[39m\u001b[34;01mexc\u001b[39;00m\n\u001b[32m     82\u001b[39m \u001b[38;5;28;01mif\u001b[39;00m \u001b[38;5;28misinstance\u001b[39m(result, (\u001b[38;5;28mbytes\u001b[39m, \u001b[38;5;28mbytearray\u001b[39m)):\n\u001b[32m     83\u001b[39m     destination.write_bytes(result)\n",
      "\u001b[31mArtifactError\u001b[39m: PlantUML rendering failed after attempts [outfile: PlantUML.processes() got an unexpected keyword argument 'outfile'; outfile positional: PlantUML.processes() takes 2 positional arguments but 3 were given]: 'PlantUMLHTTPError' object has no attribute 'message'"
     ]
    }
   ],
   "source": [
    "# TODO: Write a prompt to generate a PlantUML component diagram.\n",
    "# Follow the pro-tip above to structure your prompt.\n",
    "component_diagram_prompt = \"\"\"\n",
    "You are an expert system architect. Generate PlantUML code for a component diagram that describes an onboarding\n",
    "platform which uses a web frontend, a backend API server, and a database. The front end uses fast API endpoints to\n",
    "communicate with the backend server, and the backend server uses an ORM to communicate with the database.\n",
    "\n",
    "The diagram should include the following four components:\n",
    "- A 'Frontend' (e.g., a web browser)\n",
    "- A 'Backend API Server'\n",
    "- A 'Database'\n",
    "\n",
    "The relationships are as follows:\n",
    "- The Frontend communicates with the Backend API Server using CRUD operations over HTTP. Examples include:\n",
    "  - The Frontend fetches user data from the Backend API Server.\n",
    "  - The Frontend sends new user data to the Backend API Server to be stored.\n",
    "  - The Frontend updates existing user data via the Backend API Server.\n",
    "  - The Frontend deletes user data via the Backend API Server.\n",
    "  - The Frontend GETS tasks based on the user role.\n",
    "- The Backend API Server communicates with the Database using an ORM. Examples include:\n",
    "  - The Backend API Server reads user data from the Database.\n",
    "  - The Backend API Server writes new user data to the Database.\n",
    "  - The Backend API Server updates existing user data in the Database.\n",
    "  - The Backend API Server deletes user data from the Database.\n",
    "\n",
    "Output only the raw PlantUML code inside a markdown block.\n",
    "\"\"\"\n",
    "\n",
    "print(\"--- Generating Component Diagram ---\")\n",
    "component_puml_raw = get_completion(component_diagram_prompt, client, model_name, api_provider)\n",
    "component_puml = clean_llm_output(component_puml_raw, language='plantuml')\n",
    "\n",
    "print(\"\\n--- Generated PlantUML Code ---\")\n",
    "print(component_puml)\n",
    "save_artifact(component_puml, \"fictional-waffle/artifacts/uml_component_diagram.puml\", overwrite=True)\n",
    "\n",
    "# Render the diagram with error handling\n",
    "if component_puml:\n",
    "    try:\n",
    "        print(\"--- Attempting to render PlantUML diagram ---\")\n",
    "        render_plantuml_diagram(component_puml, \"fictional-waffle/artifacts/uml_component_diagram.png\")\n",
    "        print(\"✅ Diagram rendered successfully!\")\n",
    "    except Exception as e:\n",
    "        print(f\"⚠️ PlantUML rendering failed: {str(e)}\")\n",
    "        print(\"💡 The PlantUML code has been saved to the artifacts folder.\")\n",
    "        print(\"💡 You can manually render it using an online PlantUML service or local PlantUML installation.\")\n",
    "        \n",
    "        # Display the PlantUML code for manual rendering\n",
    "        print(\"\\n--- PlantUML Code for Manual Rendering ---\")\n",
    "        print(\"```plantuml\")\n",
    "        print(component_puml)\n",
    "        print(\"```\")\n",
    "        print(\"\\n🌐 You can paste this code at: https://www.plantuml.com/plantuml/uml\")"
   ]
  },
  {
   "cell_type": "markdown",
   "metadata": {},
   "source": [
    "### Task 2: Generate a Sequence Diagram\n",
    "\n",
    "Next, we'll create a **sequence diagram**. This type of diagram is used to model the interactions between objects in a sequential order — it shows *how* components collaborate to complete a task."
   ]
  },
  {
   "cell_type": "markdown",
   "metadata": {},
   "source": [
    "#### 💡 Pro-Tip: Prompting for Behavioral Diagrams\n",
    "\n",
    "When prompting for a behavioral diagram (like a Sequence or Activity diagram), use a narrative style:\n",
    "\n",
    "1.  **State the Format:** `Generate PlantUML code for a sequence diagram`.\n",
    "2.  **Define the Participants:** List the actors or components involved in the interaction.\n",
    "3.  **Tell a Story:** Describe the sequence of events step-by-step, as if you were narrating the process. Use phrases like `\"First, User A does X. Then, System B sends a message to System C.\"`. This chronological description maps perfectly to the structure of a sequence diagram."
   ]
  },
  {
   "cell_type": "code",
   "execution_count": null,
   "metadata": {},
   "outputs": [],
   "source": [
    "# TODO: Write a prompt to generate a PlantUML sequence diagram.\n",
    "# Use the narrative, storytelling approach from the pro-tip.\n",
    "sequence_diagram_prompt = \"\"\"\n",
    "You are an expert system architect. Generate PlantUML code for a sequence diagram illustrating the process of one user sending a chat message and another user receiving it.\n",
    "\n",
    "The participants in the diagram should be: 'User_A', 'Browser', 'Backend_API', 'WebSocket_Server', and 'User_B'.\n",
    "\n",
    "The sequence of events is as follows:\n",
    "1. First, User_A types a message into their Browser and clicks send.\n",
    "2. The Browser sends the message to the WebSocket_Server over the active connection.\n",
    "3. The WebSocket_Server immediately broadcasts this message to all other connected clients, including User_B's Browser.\n",
    "4. User_B's Browser receives the message and displays it.\n",
    "5. In parallel, the WebSocket_Server also sends the message to the Backend_API to be saved for history.\n",
    "6. The Backend_API stores the message in the database.\n",
    "\n",
    "Output only the raw PlantUML code inside a markdown block.\n",
    "\"\"\"\n",
    "\n",
    "print(\"--- Generating Sequence Diagram ---\")\n",
    "sequence_puml_raw = get_completion(sequence_diagram_prompt, client, model_name, api_provider)\n",
    "sequence_puml = clean_llm_output(sequence_puml_raw, language='plantuml')\n",
    "\n",
    "print(\"\\n--- Generated PlantUML Code ---\")\n",
    "print(sequence_puml)\n",
    "save_artifact(sequence_puml, \"artifacts/day2_sp_chat_app_sequence_diagram.puml\", overwrite=True)\n",
    "\n",
    "# Render the diagram with error handling\n",
    "if sequence_puml:\n",
    "    try:\n",
    "        print(\"--- Attempting to render PlantUML diagram ---\")\n",
    "        render_plantuml_diagram(sequence_puml, \"artifacts/day2_sp_chat_app_sequence_diagram.png\")\n",
    "        print(\"✅ Diagram rendered successfully!\")\n",
    "    except Exception as e:\n",
    "        print(f\"⚠️ PlantUML rendering failed: {str(e)}\")\n",
    "        print(\"💡 The PlantUML code has been saved to the artifacts folder.\")\n",
    "        print(\"💡 You can manually render it using an online PlantUML service or local PlantUML installation.\")\n",
    "        \n",
    "        # Display the PlantUML code for manual rendering\n",
    "        print(\"\\n--- PlantUML Code for Manual Rendering ---\")\n",
    "        print(\"```plantuml\")\n",
    "        print(sequence_puml)\n",
    "        print(\"```\")\n",
    "        print(\"\\n🌐 You can paste this code at: https://www.plantuml.com/plantuml/uml\")"
   ]
  },
  {
   "cell_type": "markdown",
   "metadata": {},
   "source": [
    "## Lab Conclusion\n",
    "\n",
    "Great work! In this practice lab, you have reinforced your ability to use an LLM to generate different types of architectural diagrams from a text description. You created both a static component diagram showing the system's structure and a dynamic sequence diagram showing a key user interaction. This skill is invaluable for quickly communicating complex designs to your team."
   ]
  }
 ],
 "metadata": {
  "kernelspec": {
   "display_name": ".venv",
   "language": "python",
   "name": "python3"
  },
  "language_info": {
   "codemirror_mode": {
    "name": "ipython",
    "version": 3
   },
   "file_extension": ".py",
   "mimetype": "text/x-python",
   "name": "python",
   "nbconvert_exporter": "python",
   "pygments_lexer": "ipython3",
   "version": "3.11.9"
  }
 },
 "nbformat": 4,
 "nbformat_minor": 4
}
